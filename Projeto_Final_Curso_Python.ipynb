{
 "cells": [
  {
   "cell_type": "markdown",
   "metadata": {
    "id": "KJqp9AANOCtf"
   },
   "source": [
    "<img src=\"https://raw.githubusercontent.com/andre-marcos-perez/ebac-course-utils/main/media/logo/newebac_logo_black_half.png\" alt=\"ebac-logo\">\n",
    "\n",
    "---\n",
    "\n",
    "# **Módulo** | Python: Projeto Final\n",
    "Caderno de **Exercicios**<br>\n",
    "Professor [André Perez](https://www.linkedin.com/in/andremarcosperez/)\\\n",
    "Aluno [Natanael Quintiliano](https://www.linkedin.com/in/natanaelquintiliano/)\n",
    "\n",
    "---"
   ]
  },
  {
   "cell_type": "markdown",
   "metadata": {},
   "source": [
    "# Topicos  <a name=\"topicos\"></a>\n",
    "1. [Apresentando o problema](#apresentando)\n",
    "2. [As bibliotecas que usaremos](#bibliotecas)\n",
    "3. [Exploração de dados](#explorando)\n",
    "4. [Transformação e limpeza de dados](#tranformando)\n",
    "5. [Análise de dados](#analisando)\n",
    "6. [Insights](#insights)\n",
    "7. [Conclusões](#conclusoes)"
   ]
  },
  {
   "cell_type": "markdown",
   "metadata": {
    "id": "AIHYuTSYQNB8"
   },
   "source": [
    "**Caso o codigo não rode aqui no Kaggle basta baixar o notebook e rodar no Google Colab.**"
   ]
  },
  {
   "cell_type": "markdown",
   "metadata": {
    "id": "SmoHgt-lwkpD"
   },
   "source": [
    "---"
   ]
  },
  {
   "cell_type": "markdown",
   "metadata": {
    "id": "4rRCvy_UURrM"
   },
   "source": [
    "# 1. Apresentando o problema <a name=\"apresentando\"></a>\n",
    "\n",
    "<div style=\"text-align: right\"\n",
    "     \n",
    "[Voltar ao índice](#topicos)\n",
    "     \n"
   ]
  },
  {
   "cell_type": "markdown",
   "metadata": {
    "id": "ByX7SUjNKk2K"
   },
   "source": [
    "Vamos explorar dados de crédito presentes neste neste [link](https://raw.githubusercontent.com/andre-marcos-perez/ebac-course-utils/develop/dataset/credito.csv). Os dados estão no formato CSV e contém informações sobre clientes de uma instituição financeira. Em especial, estamos interessados em explicar a segunda coluna, chamada de **default**, que indica se um cliente é adimplente(`default = 0`), ou inadimplente (`default = 1`), ou seja, queremos entender o porque um cliente deixa de honrar com suas dívidas baseado no comportamento de outros atributos, como salário, escolaridade e movimentação financeira. Uma descrição completa dos atributos está abaixo."
   ]
  },
  {
   "cell_type": "markdown",
   "metadata": {
    "id": "34x6dra_9Hjq"
   },
   "source": [
    "> O atributo de interesse (`default`) é conhecido como **variável resposta** ou **variável dependente**, já os demais atributos que buscam explicá-la (`idade`, `salário`, etc.) são conhecidas como **variáveis explicatívas**, **variáveis independentes** ou até **variáveis preditoras**."
   ]
  },
  {
   "cell_type": "markdown",
   "metadata": {
    "id": "SbEX7l-0PlsC"
   },
   "source": [
    "\n",
    "\n",
    "| Coluna  | Descrição |\n",
    "| ------- | --------- |\n",
    "| id      | Número da conta |\n",
    "| default | Indica se o cliente é adimplente (0) ou inadimplente (1) |\n",
    "| idade   | --- |\n",
    "| sexo    | --- |\n",
    "| depedentes | --- |\n",
    "| escolaridade | --- |\n",
    "| estado_civil | --- |\n",
    "| salario_anual | Faixa do salario mensal multiplicado por 12 |\n",
    "| tipo_cartao | Categoria do cartao: blue, silver, gold e platinium |\n",
    "| meses_de_relacionamento | Quantidade de meses desde a abertura da conta |\n",
    "| qtd_produtos | Quantidade de produtos contratados |\n",
    "| iteracoes_12m | Quantidade de iteracoes com o cliente no último ano |\n",
    "| meses_inatico_12m | Quantidade de meses que o cliente ficou inativo no último ano |\n",
    "| limite_credito | Valor do limite do cartão de crédito |\n",
    "| valor_transacoes_12m | Soma total do valor das transações no cartão de crédito no último ano |\n",
    "| qtd_transacoes_12m | Quantidade total de transações no cartão de crédito no último ano |\n",
    "\n"
   ]
  },
  {
   "cell_type": "markdown",
   "metadata": {
    "id": "NSjezV8uuK-A"
   },
   "source": [
    "# 2. As biliotecas que usaremos <a name=\"bibliotecas\"></a>\n",
    "\n",
    "<div style=\"text-align: right\"\n",
    "     \n",
    "[Voltar ao índice](#topicos)"
   ]
  },
  {
   "cell_type": "markdown",
   "metadata": {
    "id": "QMxquq2auTpB"
   },
   "source": [
    "Para ler os dados:"
   ]
  },
  {
   "cell_type": "code",
   "execution_count": null,
   "metadata": {
    "execution": {
     "iopub.execute_input": "2024-01-17T23:26:36.487923Z",
     "iopub.status.busy": "2024-01-17T23:26:36.487461Z",
     "iopub.status.idle": "2024-01-17T23:26:36.493849Z",
     "shell.execute_reply": "2024-01-17T23:26:36.492490Z",
     "shell.execute_reply.started": "2024-01-17T23:26:36.487888Z"
    },
    "id": "2y8zAhgFK1rs"
   },
   "outputs": [],
   "source": [
    "import pandas as pd"
   ]
  },
  {
   "cell_type": "markdown",
   "metadata": {
    "id": "qn84FpdD-Gmk"
   },
   "source": [
    "Para visualizar os dados:"
   ]
  },
  {
   "cell_type": "code",
   "execution_count": null,
   "metadata": {
    "execution": {
     "iopub.execute_input": "2024-01-17T23:26:36.496414Z",
     "iopub.status.busy": "2024-01-17T23:26:36.496048Z",
     "iopub.status.idle": "2024-01-17T23:26:36.505119Z",
     "shell.execute_reply": "2024-01-17T23:26:36.504012Z",
     "shell.execute_reply.started": "2024-01-17T23:26:36.496379Z"
    },
    "id": "tEdCHjEfuf9t"
   },
   "outputs": [],
   "source": [
    "import seaborn as sns\n",
    "import matplotlib.pyplot as plt"
   ]
  },
  {
   "cell_type": "markdown",
   "metadata": {
    "id": "HnJLsE9vIONM"
   },
   "source": [
    "O esquema de cores que usaremos em nossos graficos:\n"
   ]
  },
  {
   "cell_type": "code",
   "execution_count": null,
   "metadata": {
    "execution": {
     "iopub.execute_input": "2024-01-17T23:26:36.507466Z",
     "iopub.status.busy": "2024-01-17T23:26:36.506890Z",
     "iopub.status.idle": "2024-01-17T23:26:36.517103Z",
     "shell.execute_reply": "2024-01-17T23:26:36.515912Z",
     "shell.execute_reply.started": "2024-01-17T23:26:36.507433Z"
    },
    "id": "OLDBVr3rIHT1"
   },
   "outputs": [],
   "source": [
    "sns.set_style(\"whitegrid\")"
   ]
  },
  {
   "cell_type": "markdown",
   "metadata": {
    "id": "3rSZvSIbuyBG"
   },
   "source": [
    "# 3. Exploração de dados <a name=\"explorando\"></a>\n",
    "\n",
    "<div style=\"text-align: right\"\n",
    "     \n",
    "[Voltar ao índice](#topicos)"
   ]
  },
  {
   "cell_type": "markdown",
   "metadata": {
    "id": "TxwYYVauvchI"
   },
   "source": [
    "Vamos começar lendos os dados num dataframe:"
   ]
  },
  {
   "cell_type": "code",
   "execution_count": null,
   "metadata": {
    "execution": {
     "iopub.execute_input": "2024-01-17T23:26:36.519454Z",
     "iopub.status.busy": "2024-01-17T23:26:36.519094Z",
     "iopub.status.idle": "2024-01-17T23:26:36.906074Z",
     "shell.execute_reply": "2024-01-17T23:26:36.904984Z",
     "shell.execute_reply.started": "2024-01-17T23:26:36.519413Z"
    },
    "id": "Oc1o3fzfKdhx"
   },
   "outputs": [],
   "source": [
    "df = pd.read_csv('https://raw.githubusercontent.com/andre-marcos-perez/ebac-course-utils/develop/dataset/credito.csv', na_values='na')"
   ]
  },
  {
   "cell_type": "markdown",
   "metadata": {
    "id": "nz35sTGguxgC"
   },
   "source": [
    "Conferindo o dataframe:"
   ]
  },
  {
   "cell_type": "code",
   "execution_count": null,
   "metadata": {
    "execution": {
     "iopub.execute_input": "2024-01-17T23:26:36.910740Z",
     "iopub.status.busy": "2024-01-17T23:26:36.910207Z",
     "iopub.status.idle": "2024-01-17T23:26:36.928996Z",
     "shell.execute_reply": "2024-01-17T23:26:36.928238Z",
     "shell.execute_reply.started": "2024-01-17T23:26:36.910691Z"
    },
    "id": "QCKDeFk_KtrW"
   },
   "outputs": [],
   "source": [
    "df.head(n=10)"
   ]
  },
  {
   "cell_type": "markdown",
   "metadata": {
    "id": "r7pm8Ar5-PBS"
   },
   "source": [
    "Com o dados em mãos, vamos conhecer um pouco melhor a estrutura do nosso conjunto de dados."
   ]
  },
  {
   "cell_type": "markdown",
   "metadata": {
    "id": "EuDUXAcU-bWl"
   },
   "source": [
    "### **3.1. Estrutura**"
   ]
  },
  {
   "cell_type": "code",
   "execution_count": null,
   "metadata": {
    "execution": {
     "iopub.execute_input": "2024-01-17T23:26:36.930235Z",
     "iopub.status.busy": "2024-01-17T23:26:36.929954Z",
     "iopub.status.idle": "2024-01-17T23:26:36.941194Z",
     "shell.execute_reply": "2024-01-17T23:26:36.939903Z",
     "shell.execute_reply.started": "2024-01-17T23:26:36.930210Z"
    },
    "id": "TiHtowl0RzDj"
   },
   "outputs": [],
   "source": [
    "df.shape # retorna uma tupla (qtd linhas, qtd colunas)"
   ]
  },
  {
   "cell_type": "code",
   "execution_count": null,
   "metadata": {
    "execution": {
     "iopub.execute_input": "2024-01-17T23:26:36.942821Z",
     "iopub.status.busy": "2024-01-17T23:26:36.942483Z",
     "iopub.status.idle": "2024-01-17T23:26:36.954445Z",
     "shell.execute_reply": "2024-01-17T23:26:36.952977Z",
     "shell.execute_reply.started": "2024-01-17T23:26:36.942793Z"
    },
    "id": "J1FI7JejBrXN"
   },
   "outputs": [],
   "source": [
    "df[df['default'] == 0].shape"
   ]
  },
  {
   "cell_type": "code",
   "execution_count": null,
   "metadata": {
    "execution": {
     "iopub.execute_input": "2024-01-17T23:26:36.956426Z",
     "iopub.status.busy": "2024-01-17T23:26:36.956070Z",
     "iopub.status.idle": "2024-01-17T23:26:36.965289Z",
     "shell.execute_reply": "2024-01-17T23:26:36.964321Z",
     "shell.execute_reply.started": "2024-01-17T23:26:36.956399Z"
    },
    "id": "G4RYP6btBriq"
   },
   "outputs": [],
   "source": [
    "df[df['default'] == 1].shape"
   ]
  },
  {
   "cell_type": "code",
   "execution_count": null,
   "metadata": {
    "execution": {
     "iopub.execute_input": "2024-01-17T23:26:36.966782Z",
     "iopub.status.busy": "2024-01-17T23:26:36.966388Z",
     "iopub.status.idle": "2024-01-17T23:26:36.977821Z",
     "shell.execute_reply": "2024-01-17T23:26:36.976652Z",
     "shell.execute_reply.started": "2024-01-17T23:26:36.966750Z"
    },
    "id": "wH_CazQqB0Ju"
   },
   "outputs": [],
   "source": [
    "qtd_total, _ = df.shape\n",
    "qtd_adimplentes, _ = df[df['default'] == 0].shape\n",
    "qtd_inadimplentes, _ = df[df['default'] == 1].shape"
   ]
  },
  {
   "cell_type": "code",
   "execution_count": null,
   "metadata": {
    "execution": {
     "iopub.execute_input": "2024-01-17T23:26:36.979815Z",
     "iopub.status.busy": "2024-01-17T23:26:36.979480Z",
     "iopub.status.idle": "2024-01-17T23:26:36.988052Z",
     "shell.execute_reply": "2024-01-17T23:26:36.986698Z",
     "shell.execute_reply.started": "2024-01-17T23:26:36.979787Z"
    },
    "id": "oNt0s7YeCb3z"
   },
   "outputs": [],
   "source": [
    "print(f\"A proporcão clientes adimplentes é de {round(100 * qtd_adimplentes / qtd_total, 2)}%\")\n",
    "print(f\"A proporcão clientes inadimplentes é de {round(100 * qtd_inadimplentes / qtd_total, 2)}%\")"
   ]
  },
  {
   "cell_type": "markdown",
   "metadata": {
    "id": "kwey_fNL-dko"
   },
   "source": [
    "### **3.2. Schema**"
   ]
  },
  {
   "cell_type": "code",
   "execution_count": null,
   "metadata": {
    "execution": {
     "iopub.execute_input": "2024-01-17T23:26:36.990039Z",
     "iopub.status.busy": "2024-01-17T23:26:36.989560Z",
     "iopub.status.idle": "2024-01-17T23:26:37.012139Z",
     "shell.execute_reply": "2024-01-17T23:26:37.010901Z",
     "shell.execute_reply.started": "2024-01-17T23:26:36.990001Z"
    },
    "id": "nYYrLXUfHo_3"
   },
   "outputs": [],
   "source": [
    "df.head(n=5)"
   ]
  },
  {
   "cell_type": "markdown",
   "metadata": {
    "id": "sqxmut5iHPeF"
   },
   "source": [
    "Colunas e seus respectivos tipos de dados:"
   ]
  },
  {
   "cell_type": "code",
   "execution_count": null,
   "metadata": {
    "execution": {
     "iopub.execute_input": "2024-01-17T23:26:37.014011Z",
     "iopub.status.busy": "2024-01-17T23:26:37.013633Z",
     "iopub.status.idle": "2024-01-17T23:26:37.023654Z",
     "shell.execute_reply": "2024-01-17T23:26:37.022104Z",
     "shell.execute_reply.started": "2024-01-17T23:26:37.013978Z"
    },
    "id": "llbDSkrwK8Yy"
   },
   "outputs": [],
   "source": [
    "df.dtypes"
   ]
  },
  {
   "cell_type": "markdown",
   "metadata": {
    "id": "aoW6ljPmHCiB"
   },
   "source": [
    "\n",
    "Atributos **categóricos**."
   ]
  },
  {
   "cell_type": "code",
   "execution_count": null,
   "metadata": {
    "execution": {
     "iopub.execute_input": "2024-01-17T23:26:37.029523Z",
     "iopub.status.busy": "2024-01-17T23:26:37.029129Z",
     "iopub.status.idle": "2024-01-17T23:26:37.073051Z",
     "shell.execute_reply": "2024-01-17T23:26:37.071566Z",
     "shell.execute_reply.started": "2024-01-17T23:26:37.029492Z"
    },
    "id": "Bk9ruKeCFiEn"
   },
   "outputs": [],
   "source": [
    "df.select_dtypes('object').describe().transpose()"
   ]
  },
  {
   "cell_type": "markdown",
   "metadata": {
    "id": "8mNLjb9qHIWr"
   },
   "source": [
    "Atributos **numéricos**."
   ]
  },
  {
   "cell_type": "code",
   "execution_count": null,
   "metadata": {
    "execution": {
     "iopub.execute_input": "2024-01-17T23:26:37.075757Z",
     "iopub.status.busy": "2024-01-17T23:26:37.074534Z",
     "iopub.status.idle": "2024-01-17T23:26:37.119404Z",
     "shell.execute_reply": "2024-01-17T23:26:37.117974Z",
     "shell.execute_reply.started": "2024-01-17T23:26:37.075713Z"
    },
    "id": "4JAFUYUfDSSR"
   },
   "outputs": [],
   "source": [
    "df.drop('id', axis=1).select_dtypes('number').describe().transpose()"
   ]
  },
  {
   "cell_type": "markdown",
   "metadata": {
    "id": "7lAUes2dUY3h"
   },
   "source": [
    "### **3.3. Dados faltantes**"
   ]
  },
  {
   "cell_type": "markdown",
   "metadata": {
    "id": "GafzLolPK4jy"
   },
   "source": [
    "Podemos verificar quais colunas possuem dados faltantes."
   ]
  },
  {
   "cell_type": "code",
   "execution_count": null,
   "metadata": {
    "execution": {
     "iopub.execute_input": "2024-01-17T23:26:37.122075Z",
     "iopub.status.busy": "2024-01-17T23:26:37.121575Z",
     "iopub.status.idle": "2024-01-17T23:26:37.135717Z",
     "shell.execute_reply": "2024-01-17T23:26:37.134291Z",
     "shell.execute_reply.started": "2024-01-17T23:26:37.122042Z"
    },
    "id": "5dhwXuvgI3iF"
   },
   "outputs": [],
   "source": [
    "df.isna().any()"
   ]
  },
  {
   "cell_type": "markdown",
   "metadata": {
    "id": "iHFNmur_JQ0y"
   },
   "source": [
    "A função abaixo levanta algumas estatisticas sobre as colunas dos dados faltantes."
   ]
  },
  {
   "cell_type": "code",
   "execution_count": null,
   "metadata": {
    "execution": {
     "iopub.execute_input": "2024-01-17T23:26:37.138631Z",
     "iopub.status.busy": "2024-01-17T23:26:37.137426Z",
     "iopub.status.idle": "2024-01-17T23:26:37.148027Z",
     "shell.execute_reply": "2024-01-17T23:26:37.146691Z",
     "shell.execute_reply.started": "2024-01-17T23:26:37.138549Z"
    },
    "id": "UBeAIKidSMl9"
   },
   "outputs": [],
   "source": [
    "def stats_dados_faltantes(df: pd.DataFrame) -> None:\n",
    "\n",
    "  stats_dados_faltantes = []\n",
    "  for col in df.columns:\n",
    "    if df[col].isna().any():\n",
    "      qtd, _ = df[df[col].isna()].shape\n",
    "      total, _ = df.shape\n",
    "      dict_dados_faltantes = {col: {'quantidade': qtd, \"porcentagem\": round(100 * qtd/total, 2)}}\n",
    "      stats_dados_faltantes.append(dict_dados_faltantes)\n",
    "\n",
    "  for stat in stats_dados_faltantes:\n",
    "    print(stat)"
   ]
  },
  {
   "cell_type": "code",
   "execution_count": null,
   "metadata": {
    "execution": {
     "iopub.execute_input": "2024-01-17T23:26:37.151077Z",
     "iopub.status.busy": "2024-01-17T23:26:37.150425Z",
     "iopub.status.idle": "2024-01-17T23:26:37.172848Z",
     "shell.execute_reply": "2024-01-17T23:26:37.171430Z",
     "shell.execute_reply.started": "2024-01-17T23:26:37.151029Z"
    },
    "id": "yLcRKYv7Vcfo"
   },
   "outputs": [],
   "source": [
    "stats_dados_faltantes(df=df)"
   ]
  },
  {
   "cell_type": "code",
   "execution_count": null,
   "metadata": {
    "execution": {
     "iopub.execute_input": "2024-01-17T23:26:37.174869Z",
     "iopub.status.busy": "2024-01-17T23:26:37.174423Z",
     "iopub.status.idle": "2024-01-17T23:26:37.196320Z",
     "shell.execute_reply": "2024-01-17T23:26:37.194924Z",
     "shell.execute_reply.started": "2024-01-17T23:26:37.174826Z"
    },
    "id": "9HgN5wcQUyrE"
   },
   "outputs": [],
   "source": [
    "stats_dados_faltantes(df=df[df['default'] == 0])"
   ]
  },
  {
   "cell_type": "code",
   "execution_count": null,
   "metadata": {
    "execution": {
     "iopub.execute_input": "2024-01-17T23:26:37.198357Z",
     "iopub.status.busy": "2024-01-17T23:26:37.198022Z",
     "iopub.status.idle": "2024-01-17T23:26:37.214813Z",
     "shell.execute_reply": "2024-01-17T23:26:37.213963Z",
     "shell.execute_reply.started": "2024-01-17T23:26:37.198326Z"
    },
    "id": "o9GIwcSCVmjt"
   },
   "outputs": [],
   "source": [
    "stats_dados_faltantes(df=df[df['default'] == 1])"
   ]
  },
  {
   "cell_type": "markdown",
   "metadata": {
    "id": "miYvjW9QPKJm"
   },
   "source": [
    "# 4. Transformação e limpeza de dados <a name=\"tranformando\"></a>\n",
    "\n",
    "<div style=\"text-align: right\"\n",
    "     \n",
    "[Voltar ao índice](#topicos)"
   ]
  },
  {
   "cell_type": "markdown",
   "metadata": {
    "id": "_JEcr6OBLjT9"
   },
   "source": [
    "Agora que conhecemos melhor a natureza do nosso conjunto de dados, vamos conduzir uma atividade conhecida como *data wrangling* que consiste na transformação e limpeza dos dados do conjunto para que possam ser melhor analisados. Em especial, vamos remover:\n",
    "\n",
    " - Corrigir o *schema* das nossas colunas;\n",
    " - Remover os dados faltantes."
   ]
  },
  {
   "cell_type": "markdown",
   "metadata": {
    "id": "YqEgik1OXVLR"
   },
   "source": [
    "### **4.1. Correção de schema**"
   ]
  },
  {
   "cell_type": "markdown",
   "metadata": {
    "id": "FWHWpcurMkiX"
   },
   "source": [
    "Na etapa de exploração, notamos que as colunas **limite_credito** e **valor_transacoes_12m** estavam sendo interpretadas como colunas categóricas (`dtype = object`)."
   ]
  },
  {
   "cell_type": "code",
   "execution_count": null,
   "metadata": {
    "execution": {
     "iopub.execute_input": "2024-01-17T23:26:37.216943Z",
     "iopub.status.busy": "2024-01-17T23:26:37.216548Z",
     "iopub.status.idle": "2024-01-17T23:26:37.228568Z",
     "shell.execute_reply": "2024-01-17T23:26:37.227328Z",
     "shell.execute_reply.started": "2024-01-17T23:26:37.216911Z"
    },
    "id": "e_ToeVYcM7X3"
   },
   "outputs": [],
   "source": [
    "df[['limite_credito', 'valor_transacoes_12m']].dtypes"
   ]
  },
  {
   "cell_type": "code",
   "execution_count": null,
   "metadata": {
    "execution": {
     "iopub.execute_input": "2024-01-17T23:26:37.230643Z",
     "iopub.status.busy": "2024-01-17T23:26:37.230176Z",
     "iopub.status.idle": "2024-01-17T23:26:37.251829Z",
     "shell.execute_reply": "2024-01-17T23:26:37.250471Z",
     "shell.execute_reply.started": "2024-01-17T23:26:37.230583Z"
    },
    "id": "pkG33j5QNGLD"
   },
   "outputs": [],
   "source": [
    "df[['limite_credito', 'valor_transacoes_12m']].head(n=5)"
   ]
  },
  {
   "cell_type": "markdown",
   "metadata": {
    "id": "b2AJxyYXNQhC"
   },
   "source": [
    "Vamos criar uma função `lambda` para limpar os dados. Mas antes, vamos testar sua aplicação através do método funcional `map`:"
   ]
  },
  {
   "cell_type": "code",
   "execution_count": null,
   "metadata": {
    "execution": {
     "iopub.execute_input": "2024-01-17T23:26:37.253765Z",
     "iopub.status.busy": "2024-01-17T23:26:37.253382Z",
     "iopub.status.idle": "2024-01-17T23:26:37.259576Z",
     "shell.execute_reply": "2024-01-17T23:26:37.258758Z",
     "shell.execute_reply.started": "2024-01-17T23:26:37.253734Z"
    },
    "id": "P2cLfCZTOFJD"
   },
   "outputs": [],
   "source": [
    "fn = lambda valor: float(valor.replace(\".\", \"\").replace(\",\", \".\"))\n",
    "\n",
    "valores_originais = ['12.691,51', '8.256,96', '3.418,56', '3.313,03', '4.716,22']\n",
    "valores_limpos = list(map(fn, valores_originais))\n",
    "\n",
    "print(valores_originais)\n",
    "print(valores_limpos)"
   ]
  },
  {
   "cell_type": "markdown",
   "metadata": {
    "id": "oNx_M5ueNfj1"
   },
   "source": [
    "Com a função `lambda` de limpeza pronta, basta aplica-la nas colunas de interesse."
   ]
  },
  {
   "cell_type": "code",
   "execution_count": null,
   "metadata": {
    "execution": {
     "iopub.execute_input": "2024-01-17T23:26:37.261446Z",
     "iopub.status.busy": "2024-01-17T23:26:37.260711Z",
     "iopub.status.idle": "2024-01-17T23:26:37.286099Z",
     "shell.execute_reply": "2024-01-17T23:26:37.284618Z",
     "shell.execute_reply.started": "2024-01-17T23:26:37.261407Z"
    },
    "id": "b1vsc75TN_ZA"
   },
   "outputs": [],
   "source": [
    "df['valor_transacoes_12m'] = df['valor_transacoes_12m'].apply(fn)\n",
    "df['limite_credito'] = df['limite_credito'].apply(fn)"
   ]
  },
  {
   "cell_type": "markdown",
   "metadata": {
    "id": "44lO14qwOaGL"
   },
   "source": [
    "Vamos descrever novamente o *schema*:"
   ]
  },
  {
   "cell_type": "code",
   "execution_count": null,
   "metadata": {
    "execution": {
     "iopub.execute_input": "2024-01-17T23:26:37.288072Z",
     "iopub.status.busy": "2024-01-17T23:26:37.287698Z",
     "iopub.status.idle": "2024-01-17T23:26:37.297054Z",
     "shell.execute_reply": "2024-01-17T23:26:37.296164Z",
     "shell.execute_reply.started": "2024-01-17T23:26:37.288042Z"
    },
    "id": "TOJoEfVxQpz3"
   },
   "outputs": [],
   "source": [
    "df.dtypes"
   ]
  },
  {
   "cell_type": "markdown",
   "metadata": {
    "id": "Jzst49MBOQux"
   },
   "source": [
    " Atributos **categóricos**."
   ]
  },
  {
   "cell_type": "code",
   "execution_count": null,
   "metadata": {
    "execution": {
     "iopub.execute_input": "2024-01-17T23:26:37.299285Z",
     "iopub.status.busy": "2024-01-17T23:26:37.298339Z",
     "iopub.status.idle": "2024-01-17T23:26:37.327240Z",
     "shell.execute_reply": "2024-01-17T23:26:37.325938Z",
     "shell.execute_reply.started": "2024-01-17T23:26:37.299252Z"
    },
    "id": "ul2cx2s6OQu5"
   },
   "outputs": [],
   "source": [
    "df.select_dtypes('object').describe().transpose()"
   ]
  },
  {
   "cell_type": "markdown",
   "metadata": {
    "id": "MOln7J02OQu7"
   },
   "source": [
    "Atributos **numéricos**."
   ]
  },
  {
   "cell_type": "code",
   "execution_count": null,
   "metadata": {
    "execution": {
     "iopub.execute_input": "2024-01-17T23:26:37.329793Z",
     "iopub.status.busy": "2024-01-17T23:26:37.328740Z",
     "iopub.status.idle": "2024-01-17T23:26:37.376582Z",
     "shell.execute_reply": "2024-01-17T23:26:37.375343Z",
     "shell.execute_reply.started": "2024-01-17T23:26:37.329746Z"
    },
    "id": "wcavrFtIOQu8"
   },
   "outputs": [],
   "source": [
    "df.drop('id', axis=1).select_dtypes('number').describe().transpose()"
   ]
  },
  {
   "cell_type": "markdown",
   "metadata": {
    "id": "FfSrJNGPLgaE"
   },
   "source": [
    "### **4.2. Remoção de dados faltantes**"
   ]
  },
  {
   "cell_type": "markdown",
   "metadata": {
    "id": "C9-LfUrxPk26"
   },
   "source": [
    "Como o pandas está ciente do que é um dados faltante, a remoção das linhas problemáticas é trivial."
   ]
  },
  {
   "cell_type": "code",
   "execution_count": null,
   "metadata": {
    "execution": {
     "iopub.execute_input": "2024-01-17T23:26:37.378317Z",
     "iopub.status.busy": "2024-01-17T23:26:37.377982Z",
     "iopub.status.idle": "2024-01-17T23:26:37.388434Z",
     "shell.execute_reply": "2024-01-17T23:26:37.387418Z",
     "shell.execute_reply.started": "2024-01-17T23:26:37.378282Z"
    },
    "id": "PACLJJnsLgak"
   },
   "outputs": [],
   "source": [
    "df.dropna(inplace=True)"
   ]
  },
  {
   "cell_type": "markdown",
   "metadata": {
    "id": "tJhhutM7Phq9"
   },
   "source": [
    "Vamos analisar a estrutura dos dados novamente."
   ]
  },
  {
   "cell_type": "code",
   "execution_count": null,
   "metadata": {
    "execution": {
     "iopub.execute_input": "2024-01-17T23:26:37.391095Z",
     "iopub.status.busy": "2024-01-17T23:26:37.390386Z",
     "iopub.status.idle": "2024-01-17T23:26:37.400214Z",
     "shell.execute_reply": "2024-01-17T23:26:37.398704Z",
     "shell.execute_reply.started": "2024-01-17T23:26:37.391053Z"
    },
    "id": "5Fo7S-COP0Lf"
   },
   "outputs": [],
   "source": [
    "df.shape"
   ]
  },
  {
   "cell_type": "code",
   "execution_count": null,
   "metadata": {
    "execution": {
     "iopub.execute_input": "2024-01-17T23:26:37.402304Z",
     "iopub.status.busy": "2024-01-17T23:26:37.401856Z",
     "iopub.status.idle": "2024-01-17T23:26:37.414485Z",
     "shell.execute_reply": "2024-01-17T23:26:37.413296Z",
     "shell.execute_reply.started": "2024-01-17T23:26:37.402263Z"
    },
    "id": "jbp-6NaXP0Lh"
   },
   "outputs": [],
   "source": [
    "df[df['default'] == 0].shape"
   ]
  },
  {
   "cell_type": "code",
   "execution_count": null,
   "metadata": {
    "execution": {
     "iopub.execute_input": "2024-01-17T23:26:37.416514Z",
     "iopub.status.busy": "2024-01-17T23:26:37.416076Z",
     "iopub.status.idle": "2024-01-17T23:26:37.426107Z",
     "shell.execute_reply": "2024-01-17T23:26:37.424971Z",
     "shell.execute_reply.started": "2024-01-17T23:26:37.416421Z"
    },
    "id": "XJHQihfUP0Li"
   },
   "outputs": [],
   "source": [
    "df[df['default'] == 1].shape"
   ]
  },
  {
   "cell_type": "code",
   "execution_count": null,
   "metadata": {
    "execution": {
     "iopub.execute_input": "2024-01-17T23:26:37.428020Z",
     "iopub.status.busy": "2024-01-17T23:26:37.427573Z",
     "iopub.status.idle": "2024-01-17T23:26:37.439624Z",
     "shell.execute_reply": "2024-01-17T23:26:37.438073Z",
     "shell.execute_reply.started": "2024-01-17T23:26:37.427978Z"
    },
    "id": "IGFZmtReP0Lk"
   },
   "outputs": [],
   "source": [
    "qtd_total_novo, _ = df.shape\n",
    "qtd_adimplentes_novo, _ = df[df['default'] == 0].shape\n",
    "qtd_inadimplentes_novo, _ = df[df['default'] == 1].shape"
   ]
  },
  {
   "cell_type": "code",
   "execution_count": null,
   "metadata": {
    "execution": {
     "iopub.execute_input": "2024-01-17T23:26:37.442111Z",
     "iopub.status.busy": "2024-01-17T23:26:37.440973Z",
     "iopub.status.idle": "2024-01-17T23:26:37.451190Z",
     "shell.execute_reply": "2024-01-17T23:26:37.449643Z",
     "shell.execute_reply.started": "2024-01-17T23:26:37.442041Z"
    },
    "id": "BU35ZXaKP_6h"
   },
   "outputs": [],
   "source": [
    "print(f\"A proporcão adimplentes ativos é de {round(100 * qtd_adimplentes / qtd_total, 2)}%\")\n",
    "print(f\"A nova proporcão de clientes adimplentes é de {round(100 * qtd_adimplentes_novo / qtd_total_novo, 2)}%\")\n",
    "print(\"\")\n",
    "print(f\"A proporcão clientes inadimplentes é de {round(100 * qtd_inadimplentes / qtd_total, 2)}%\")\n",
    "print(f\"A nova proporcão de clientes inadimplentes é de {round(100 * qtd_inadimplentes_novo / qtd_total_novo, 2)}%\")"
   ]
  },
  {
   "cell_type": "markdown",
   "metadata": {
    "id": "iJTgUJqpPKJ3"
   },
   "source": [
    "# 5. Analise de dados <a name=\"analisando\"></a>\n",
    "\n",
    "<div style=\"text-align: right\"\n",
    "     \n",
    "[Voltar ao índice](#topicos)"
   ]
  },
  {
   "cell_type": "markdown",
   "metadata": {
    "id": "sJpXNT77pPig"
   },
   "source": [
    "Os dados estão prontos, vamos criar diversas visualizações para correlacionar variáveis explicativas com a variável resposta para buscar entender qual fator leva um cliente a inadimplencia. E para isso, vamos sempre comparar a base com todos os clientes com a base de adimplentes e inadimplentes."
   ]
  },
  {
   "cell_type": "code",
   "execution_count": null,
   "metadata": {
    "execution": {
     "iopub.execute_input": "2024-01-17T23:26:37.453725Z",
     "iopub.status.busy": "2024-01-17T23:26:37.453299Z",
     "iopub.status.idle": "2024-01-17T23:26:37.461743Z",
     "shell.execute_reply": "2024-01-17T23:26:37.460824Z",
     "shell.execute_reply.started": "2024-01-17T23:26:37.453683Z"
    },
    "id": "duYfStSTSs4f"
   },
   "outputs": [],
   "source": [
    "df_adimplente = df[df['default'] == 0]"
   ]
  },
  {
   "cell_type": "code",
   "execution_count": null,
   "metadata": {
    "execution": {
     "iopub.execute_input": "2024-01-17T23:26:37.463877Z",
     "iopub.status.busy": "2024-01-17T23:26:37.463136Z",
     "iopub.status.idle": "2024-01-17T23:26:37.474262Z",
     "shell.execute_reply": "2024-01-17T23:26:37.472960Z",
     "shell.execute_reply.started": "2024-01-17T23:26:37.463845Z"
    },
    "id": "ldEBuNiiSxVE"
   },
   "outputs": [],
   "source": [
    "df_inadimplente = df[df['default'] == 1]"
   ]
  },
  {
   "cell_type": "markdown",
   "metadata": {
    "id": "o-Z4n4a8QNCm"
   },
   "source": [
    "### **5.1. Visualizações categóricas**"
   ]
  },
  {
   "cell_type": "markdown",
   "metadata": {
    "id": "AAKovEBSqSVu"
   },
   "source": [
    "Nesta seção, vamos visualizar a relação entre a variável resposta **default** com os atributos categóricos."
   ]
  },
  {
   "cell_type": "code",
   "execution_count": null,
   "metadata": {
    "execution": {
     "iopub.execute_input": "2024-01-17T23:26:37.477023Z",
     "iopub.status.busy": "2024-01-17T23:26:37.476214Z",
     "iopub.status.idle": "2024-01-17T23:26:37.495352Z",
     "shell.execute_reply": "2024-01-17T23:26:37.494193Z",
     "shell.execute_reply.started": "2024-01-17T23:26:37.476983Z"
    },
    "id": "O2bBTZ2PS85K"
   },
   "outputs": [],
   "source": [
    "df.select_dtypes('object').head(n=5)"
   ]
  },
  {
   "cell_type": "markdown",
   "metadata": {
    "id": "Wtww1AX7Ix-A"
   },
   "source": [
    "Função para vermos a relação entre variáveis categóricas."
   ]
  },
  {
   "cell_type": "code",
   "execution_count": null,
   "metadata": {
    "execution": {
     "iopub.execute_input": "2024-01-17T23:26:37.499578Z",
     "iopub.status.busy": "2024-01-17T23:26:37.498958Z",
     "iopub.status.idle": "2024-01-17T23:26:37.510359Z",
     "shell.execute_reply": "2024-01-17T23:26:37.509275Z",
     "shell.execute_reply.started": "2024-01-17T23:26:37.499534Z"
    },
    "id": "IC46m2I_QNCo"
   },
   "outputs": [],
   "source": [
    "def relacao_variaveis_categoricas(df: pd.DataFrame,coluna:str,titulos:list) -> None:\n",
    "  eixo = 0\n",
    "  max_y = 0\n",
    "  max = df.select_dtypes('object').describe()[coluna]['freq'] * 1.1\n",
    "\n",
    "  figura, eixos = plt.subplots(1,3, figsize=(20, 5), sharex=True)\n",
    "\n",
    "  for dataframe in [df, df_adimplente, df_inadimplente]:\n",
    "\n",
    "    df_to_plot = dataframe[coluna].value_counts().to_frame()\n",
    "    df_to_plot.rename(columns={coluna: 'frequencia_absoluta'}, inplace=True)\n",
    "    df_to_plot[coluna] = df_to_plot.index\n",
    "    df_to_plot.sort_values(by=[coluna], inplace=True)\n",
    "    df_to_plot.sort_values(by=[coluna])\n",
    "\n",
    "    f = sns.barplot(x=df_to_plot[coluna], y=df_to_plot['frequencia_absoluta'], ax=eixos[eixo])\n",
    "    f.set(title=titulos[eixo], xlabel=coluna.capitalize(), ylabel='Frequência Absoluta')\n",
    "    f.set_xticklabels(labels=f.get_xticklabels(), rotation=90)\n",
    "\n",
    "    _, max_y_f = f.get_ylim()\n",
    "    max_y = max_y_f if max_y_f > max_y else max_y\n",
    "    f.set(ylim=(0, max_y))\n",
    "\n",
    "    eixo += 1\n",
    "\n",
    "  return figura.show()\n"
   ]
  },
  {
   "cell_type": "markdown",
   "metadata": {
    "id": "g9kUw9oGQNCq"
   },
   "source": [
    "#### **5.1.1. Escolaridade**"
   ]
  },
  {
   "cell_type": "code",
   "execution_count": null,
   "metadata": {
    "execution": {
     "iopub.execute_input": "2024-01-17T23:26:37.520286Z",
     "iopub.status.busy": "2024-01-17T23:26:37.519777Z",
     "iopub.status.idle": "2024-01-17T23:26:37.529232Z",
     "shell.execute_reply": "2024-01-17T23:26:37.527781Z",
     "shell.execute_reply.started": "2024-01-17T23:26:37.520248Z"
    },
    "id": "YjChm9qEQNCr"
   },
   "outputs": [],
   "source": [
    "\"\"\" Este comando roda apenas no google Colab estou tentando descobrir porque, alguma possivel solução deixe nos comentarios, grato.\n",
    "relacao_variaveis_categoricas(\n",
    "    df = df\n",
    "    ,coluna =  'escolaridade'\n",
    "    ,titulos = ['Escolaridade dos Clientes', 'Escolaridade dos Clientes Adimplentes', 'Escolaridade dos Clientes Inadimplentes']\n",
    ")\n",
    "\"\"\""
   ]
  },
  {
   "cell_type": "markdown",
   "metadata": {
    "id": "WYZrIzehQNCs"
   },
   "source": [
    "#### **5.1.2. Salário anual**"
   ]
  },
  {
   "cell_type": "code",
   "execution_count": null,
   "metadata": {
    "execution": {
     "iopub.execute_input": "2024-01-17T23:26:37.531910Z",
     "iopub.status.busy": "2024-01-17T23:26:37.531175Z",
     "iopub.status.idle": "2024-01-17T23:26:37.542163Z",
     "shell.execute_reply": "2024-01-17T23:26:37.540891Z",
     "shell.execute_reply.started": "2024-01-17T23:26:37.531867Z"
    },
    "id": "4DpOf8RNQNCt"
   },
   "outputs": [],
   "source": [
    "\"\"\" Este comando roda apenas no google Colab estou tentando descobrir porque, alguma possivel solução deixe nos comentarios, grato.\n",
    "relacao_variaveis_categoricas(\n",
    "    df=df\n",
    "    ,coluna = 'salario_anual'\n",
    "    ,titulos = ['Salário Anual dos Clientes', 'Salário Anual dos Clientes Adimplentes', 'Salário Anual dos Clientes Inadimplentes']\n",
    ")\n",
    "\"\"\""
   ]
  },
  {
   "cell_type": "markdown",
   "metadata": {
    "id": "cBIWU4zISIqR"
   },
   "source": [
    "### **5.2. Visualizações numéricas**"
   ]
  },
  {
   "cell_type": "markdown",
   "metadata": {
    "id": "DWKf-t4iqpFK"
   },
   "source": [
    "Nesta seção, vamos visualizar a relação entre a variável resposta **default** com os atributos numéricos."
   ]
  },
  {
   "cell_type": "code",
   "execution_count": null,
   "metadata": {
    "execution": {
     "iopub.execute_input": "2024-01-17T23:26:37.544910Z",
     "iopub.status.busy": "2024-01-17T23:26:37.543704Z",
     "iopub.status.idle": "2024-01-17T23:26:37.564863Z",
     "shell.execute_reply": "2024-01-17T23:26:37.563478Z",
     "shell.execute_reply.started": "2024-01-17T23:26:37.544872Z"
    },
    "id": "NEEhLdj0qoUd"
   },
   "outputs": [],
   "source": [
    "df.drop(['id', 'default'], axis=1).select_dtypes('number').head(n=5)"
   ]
  },
  {
   "cell_type": "markdown",
   "metadata": {
    "id": "qAwT05xTN-KD"
   },
   "source": [
    "Função para vermos a relação entre variaveis categóricas."
   ]
  },
  {
   "cell_type": "code",
   "execution_count": null,
   "metadata": {
    "execution": {
     "iopub.execute_input": "2024-01-17T23:26:37.566767Z",
     "iopub.status.busy": "2024-01-17T23:26:37.566419Z",
     "iopub.status.idle": "2024-01-17T23:26:37.574002Z",
     "shell.execute_reply": "2024-01-17T23:26:37.572921Z",
     "shell.execute_reply.started": "2024-01-17T23:26:37.566736Z"
    },
    "id": "9yneLMsUOL1F"
   },
   "outputs": [],
   "source": [
    "def relacao_variaveis_numericas(df: pd.DataFrame,coluna:str,titulos:list) -> None:\n",
    "  eixo = 0\n",
    "  max_y = 0\n",
    "  figura, eixos = plt.subplots(1,3, figsize=(20, 5), sharex=True)\n",
    "\n",
    "  for dataframe in [df, df_adimplente, df_inadimplente]:\n",
    "\n",
    "    f = sns.histplot(x=coluna, data=dataframe, stat='count', ax=eixos[eixo])\n",
    "    f.set(title=titulos[eixo], xlabel=coluna.capitalize(), ylabel='Frequência Absoluta')\n",
    "\n",
    "    _, max_y_f = f.get_ylim()\n",
    "    max_y = max_y_f if max_y_f > max_y else max_y\n",
    "    f.set(ylim=(0, max_y))\n",
    "\n",
    "    eixo += 1\n",
    "\n",
    "  figura.show()"
   ]
  },
  {
   "cell_type": "markdown",
   "metadata": {
    "id": "G7YNmSRQq6fp"
   },
   "source": [
    "#### **5.2.1. Quantidade de transações nos últimos 12 meses**"
   ]
  },
  {
   "cell_type": "code",
   "execution_count": null,
   "metadata": {
    "execution": {
     "iopub.execute_input": "2024-01-17T23:26:37.576103Z",
     "iopub.status.busy": "2024-01-17T23:26:37.575315Z",
     "iopub.status.idle": "2024-01-17T23:26:38.897273Z",
     "shell.execute_reply": "2024-01-17T23:26:38.896200Z",
     "shell.execute_reply.started": "2024-01-17T23:26:37.576069Z"
    },
    "id": "A3O0oQ9sq8XQ"
   },
   "outputs": [],
   "source": [
    "relacao_variaveis_numericas(\n",
    "    df=df\n",
    "    ,coluna = 'qtd_transacoes_12m'\n",
    "    ,titulos = ['Qtd. de Transações no Último Ano', 'Qtd. de Transações no Último Ano de Adimplentes', 'Qtd. de Transações no Último Ano de Inadimplentes']\n",
    ")"
   ]
  },
  {
   "cell_type": "markdown",
   "metadata": {
    "id": "6YqLIvyXtIuN"
   },
   "source": [
    "#### **5.2.2. Valor das transações nos últimos 12 meses**"
   ]
  },
  {
   "cell_type": "code",
   "execution_count": null,
   "metadata": {
    "execution": {
     "iopub.execute_input": "2024-01-17T23:26:38.899177Z",
     "iopub.status.busy": "2024-01-17T23:26:38.898850Z",
     "iopub.status.idle": "2024-01-17T23:26:40.376507Z",
     "shell.execute_reply": "2024-01-17T23:26:40.375226Z",
     "shell.execute_reply.started": "2024-01-17T23:26:38.899146Z"
    },
    "id": "-tHIbYcetH0J"
   },
   "outputs": [],
   "source": [
    "relacao_variaveis_numericas(\n",
    "    df=df\n",
    "    ,coluna = 'valor_transacoes_12m'\n",
    "    ,titulos = ['Valor das Transações no Último Ano', 'Valor das Transações no Último Ano de Adimplentes', 'Valor das Transações no Último Ano de Inadimplentes']\n",
    ")"
   ]
  },
  {
   "cell_type": "markdown",
   "metadata": {
    "id": "10ud8vxqzqjI"
   },
   "source": [
    "#### **5.2.3 - Cruzamento entre: valor de transações nos últimos 12 meses x quantidade de transações nos últimos 12 meses.**"
   ]
  },
  {
   "cell_type": "code",
   "execution_count": null,
   "metadata": {
    "execution": {
     "iopub.execute_input": "2024-01-17T23:26:40.378799Z",
     "iopub.status.busy": "2024-01-17T23:26:40.378326Z",
     "iopub.status.idle": "2024-01-17T23:26:41.898929Z",
     "shell.execute_reply": "2024-01-17T23:26:41.897665Z",
     "shell.execute_reply.started": "2024-01-17T23:26:40.378757Z"
    },
    "id": "SjqqF940x-lL"
   },
   "outputs": [],
   "source": [
    "f = sns.relplot(x='valor_transacoes_12m', y='qtd_transacoes_12m', data=df, hue='default')\n",
    "_ = f.set(\n",
    "    title='Relação entre Valor e Quantidade de Transações no Último Ano',\n",
    "    xlabel='Valor das Transações no Último Ano',\n",
    "    ylabel='Quantidade das Transações no Último Ano'\n",
    "  )"
   ]
  },
  {
   "cell_type": "markdown",
   "metadata": {
    "id": "W2MugMzDRU6a"
   },
   "source": [
    "#### **5.2.4. Limite de crédito**"
   ]
  },
  {
   "cell_type": "code",
   "execution_count": null,
   "metadata": {
    "execution": {
     "iopub.execute_input": "2024-01-17T23:26:41.901734Z",
     "iopub.status.busy": "2024-01-17T23:26:41.900921Z",
     "iopub.status.idle": "2024-01-17T23:26:43.313288Z",
     "shell.execute_reply": "2024-01-17T23:26:43.311957Z",
     "shell.execute_reply.started": "2024-01-17T23:26:41.901692Z"
    },
    "id": "aeJl6gN2RjEw"
   },
   "outputs": [],
   "source": [
    "relacao_variaveis_numericas(\n",
    "    df=df\n",
    "    ,coluna = 'limite_credito'\n",
    "    ,titulos = ['Limite de Credito', 'Limite de Credito de Adimplentes', 'Limite de Credito de Inadimplentes']\n",
    ")"
   ]
  },
  {
   "cell_type": "markdown",
   "metadata": {
    "id": "hJrFytdz4IDh"
   },
   "source": [
    "#### **5.2.5. Idade**"
   ]
  },
  {
   "cell_type": "code",
   "execution_count": null,
   "metadata": {
    "execution": {
     "iopub.execute_input": "2024-01-17T23:26:43.315769Z",
     "iopub.status.busy": "2024-01-17T23:26:43.315389Z",
     "iopub.status.idle": "2024-01-17T23:26:45.097468Z",
     "shell.execute_reply": "2024-01-17T23:26:45.095994Z",
     "shell.execute_reply.started": "2024-01-17T23:26:43.315727Z"
    },
    "id": "GhSIv4YDybot"
   },
   "outputs": [],
   "source": [
    "relacao_variaveis_numericas(\n",
    "    df=df\n",
    "    ,coluna = 'idade'\n",
    "    ,titulos = ['Idade', 'Idade de Adimplentes', 'Idade de Inadimplentes']\n",
    ")"
   ]
  },
  {
   "cell_type": "markdown",
   "metadata": {
    "id": "jMQue0QPKzRY"
   },
   "source": [
    "# 6. Insights <a name=\"insights\"></a>\n",
    "\n",
    "<div style=\"text-align: right\"\n",
    "     \n",
    "[Voltar ao índice](#topicos)"
   ]
  },
  {
   "cell_type": "markdown",
   "metadata": {
    "id": "1Qgc_J2mweDG"
   },
   "source": [
    "Após analisarmos e observamos graficamente quais variáveis mais poderiam impactar na variável ser ou não inadiplente, obersavmos que duas variáveis se destacaram `valor_transacoes_12m` e `qtd_transacoes_12m`. A seguir olharemos percentualmente o impacto das mesmas em ser ou não inadiplente."
   ]
  },
  {
   "cell_type": "markdown",
   "metadata": {
    "id": "nkX6kOfY9qQ7"
   },
   "source": [
    "#### **6.1. Valor transações nos ultimos 12 meses**"
   ]
  },
  {
   "cell_type": "markdown",
   "metadata": {
    "id": "iVEm_zUCzh-T"
   },
   "source": [
    "Analisando o grafico começamos a estimar qual range de valores tem mais clientes inadiplentes."
   ]
  },
  {
   "cell_type": "code",
   "execution_count": null,
   "metadata": {
    "execution": {
     "iopub.execute_input": "2024-01-17T23:26:45.099342Z",
     "iopub.status.busy": "2024-01-17T23:26:45.099008Z",
     "iopub.status.idle": "2024-01-17T23:26:45.107139Z",
     "shell.execute_reply": "2024-01-17T23:26:45.105714Z",
     "shell.execute_reply.started": "2024-01-17T23:26:45.099313Z"
    },
    "id": "n4V2k3a36cj_"
   },
   "outputs": [],
   "source": [
    "# Clientes que transacionaram menos de $3000,00\n",
    "df_transacoes_vmaximo = df[df['valor_transacoes_12m']<3000]"
   ]
  },
  {
   "cell_type": "code",
   "execution_count": null,
   "metadata": {
    "execution": {
     "iopub.execute_input": "2024-01-17T23:26:45.110282Z",
     "iopub.status.busy": "2024-01-17T23:26:45.109214Z",
     "iopub.status.idle": "2024-01-17T23:26:45.120259Z",
     "shell.execute_reply": "2024-01-17T23:26:45.118697Z",
     "shell.execute_reply.started": "2024-01-17T23:26:45.110229Z"
    },
    "id": "Q_WPSjJZ3ez-"
   },
   "outputs": [],
   "source": [
    "# Quantidade de clientes que transacionaram menos de $3000,00 e são inadiplentes\n",
    "df_transac_inadimplente,_ = df_transacoes_vmaximo[df_transacoes_vmaximo['default'] == 1].shape"
   ]
  },
  {
   "cell_type": "code",
   "execution_count": null,
   "metadata": {
    "execution": {
     "iopub.execute_input": "2024-01-17T23:26:45.122774Z",
     "iopub.status.busy": "2024-01-17T23:26:45.122336Z",
     "iopub.status.idle": "2024-01-17T23:26:45.130281Z",
     "shell.execute_reply": "2024-01-17T23:26:45.128989Z",
     "shell.execute_reply.started": "2024-01-17T23:26:45.122741Z"
    },
    "id": "Rjksy9Q53gQU"
   },
   "outputs": [],
   "source": [
    "## Quantidade de clientes que transacionaram menos de $3000,00\n",
    "df_transacoes_vmaximo_qtd,_ = df[df['valor_transacoes_12m']<3000].shape"
   ]
  },
  {
   "cell_type": "markdown",
   "metadata": {
    "id": "vDehtwVp2N8M"
   },
   "source": [
    "Vericamos que o range de clientes que tivereram transações abaixo de $3000,00 são os que porcentualmente tem mais clientes inadiplentes, 30,89% dos clientes desse range são `default = 1` quase o dobro da porcentagem de 15,72% inadiplentes em relação ao total de clientes."
   ]
  },
  {
   "cell_type": "code",
   "execution_count": null,
   "metadata": {
    "execution": {
     "iopub.execute_input": "2024-01-17T23:26:45.131926Z",
     "iopub.status.busy": "2024-01-17T23:26:45.131596Z",
     "iopub.status.idle": "2024-01-17T23:26:45.142474Z",
     "shell.execute_reply": "2024-01-17T23:26:45.141562Z",
     "shell.execute_reply.started": "2024-01-17T23:26:45.131898Z"
    },
    "id": "MOWSAL_F4Lh_"
   },
   "outputs": [],
   "source": [
    "# Porcentagem dos clientes que transacionaram menos de $3000,00 e são inadiplentes\n",
    "round(100 * df_transac_inadimplente / df_transacoes_vmaximo_qtd, 2)"
   ]
  },
  {
   "cell_type": "markdown",
   "metadata": {
    "id": "LR85uReB3hH5"
   },
   "source": [
    "Abaixo veremos que os clientes totais desse range são 39,68% dos clientes, parece pouco? Mas...\n",
    "\n",
    "\n",
    "\n"
   ]
  },
  {
   "cell_type": "code",
   "execution_count": null,
   "metadata": {
    "execution": {
     "iopub.execute_input": "2024-01-17T23:26:45.145116Z",
     "iopub.status.busy": "2024-01-17T23:26:45.144620Z",
     "iopub.status.idle": "2024-01-17T23:26:45.155690Z",
     "shell.execute_reply": "2024-01-17T23:26:45.153992Z",
     "shell.execute_reply.started": "2024-01-17T23:26:45.145070Z"
    },
    "id": "wa5a-eZM0J9B"
   },
   "outputs": [],
   "source": [
    "#Porcentagem dos total de clientes que transacionaram menos de $3000,00\n",
    "round(100 * df_transacoes_vmaximo_qtd / qtd_total_novo, 2)"
   ]
  },
  {
   "cell_type": "markdown",
   "metadata": {
    "id": "GwL4y1x-6DLB"
   },
   "source": [
    "... os clientes inadiplentes desse range representam aproximadente 78% dos clientes inadiplentes."
   ]
  },
  {
   "cell_type": "code",
   "execution_count": null,
   "metadata": {
    "execution": {
     "iopub.execute_input": "2024-01-17T23:26:45.158540Z",
     "iopub.status.busy": "2024-01-17T23:26:45.157987Z",
     "iopub.status.idle": "2024-01-17T23:26:45.168796Z",
     "shell.execute_reply": "2024-01-17T23:26:45.167994Z",
     "shell.execute_reply.started": "2024-01-17T23:26:45.158499Z"
    },
    "id": "j8ngyAu-8h4v"
   },
   "outputs": [],
   "source": [
    "#Porcentagem dos clientes que transacionaram menos de $3000,00 e são inadiplentes em relação ao total de inadiplentes\n",
    "round(100 * df_transac_inadimplente/qtd_inadimplentes_novo, 2)"
   ]
  },
  {
   "cell_type": "markdown",
   "metadata": {
    "id": "aX1QN0Rl6WD9"
   },
   "source": [
    "E somente os clientes inadiplentes desse range representam  12,26% dos total de clientes, adiplentes ou não."
   ]
  },
  {
   "cell_type": "code",
   "execution_count": null,
   "metadata": {
    "execution": {
     "iopub.execute_input": "2024-01-17T23:26:45.170295Z",
     "iopub.status.busy": "2024-01-17T23:26:45.169946Z",
     "iopub.status.idle": "2024-01-17T23:26:45.182987Z",
     "shell.execute_reply": "2024-01-17T23:26:45.182063Z",
     "shell.execute_reply.started": "2024-01-17T23:26:45.170263Z"
    },
    "id": "xGSX0qRt8tOf"
   },
   "outputs": [],
   "source": [
    "#Porcentagem dos clientes que transacionaram menos de $3000,00 e são inadiplentes em relação ao total de clientes\n",
    "round(100 * df_transac_inadimplente/qtd_total_novo, 2)"
   ]
  },
  {
   "cell_type": "markdown",
   "metadata": {
    "id": "qpKRN7pu68Ix"
   },
   "source": [
    "Em resumo qualquer mudança na inadiplencia desses clientes impacta e muito no indice geral.\n"
   ]
  },
  {
   "cell_type": "markdown",
   "metadata": {
    "id": "Dr18fY18S2Wx"
   },
   "source": [
    "#### **6.2. Quantidade de transações nos ultimos 12 meses**"
   ]
  },
  {
   "cell_type": "markdown",
   "metadata": {
    "id": "DjB6Qr3b8CDI"
   },
   "source": [
    "Analisando o grafico começamos a estimar qual range de valores tem mais clientes inadiplentes."
   ]
  },
  {
   "cell_type": "code",
   "execution_count": null,
   "metadata": {
    "execution": {
     "iopub.execute_input": "2024-01-17T23:26:45.185032Z",
     "iopub.status.busy": "2024-01-17T23:26:45.184708Z",
     "iopub.status.idle": "2024-01-17T23:26:45.196235Z",
     "shell.execute_reply": "2024-01-17T23:26:45.194813Z",
     "shell.execute_reply.started": "2024-01-17T23:26:45.185004Z"
    },
    "id": "1DTgyWXES_Jf"
   },
   "outputs": [],
   "source": [
    "df_transacoes_qtdmaximo =  df[df['qtd_transacoes_12m']<60]"
   ]
  },
  {
   "cell_type": "code",
   "execution_count": null,
   "metadata": {
    "execution": {
     "iopub.execute_input": "2024-01-17T23:26:45.202555Z",
     "iopub.status.busy": "2024-01-17T23:26:45.198830Z",
     "iopub.status.idle": "2024-01-17T23:26:45.210744Z",
     "shell.execute_reply": "2024-01-17T23:26:45.209282Z",
     "shell.execute_reply.started": "2024-01-17T23:26:45.202511Z"
    },
    "id": "3bXtZTQMTOhr"
   },
   "outputs": [],
   "source": [
    "#Quantidade de clientes que transacionaram menos de 60 vezes e são inadiplentes\n",
    "df_transac_qtdinadimplente,_ = df_transacoes_qtdmaximo[df_transacoes_qtdmaximo['default'] == 1].shape"
   ]
  },
  {
   "cell_type": "code",
   "execution_count": null,
   "metadata": {
    "execution": {
     "iopub.execute_input": "2024-01-17T23:26:45.212882Z",
     "iopub.status.busy": "2024-01-17T23:26:45.212464Z",
     "iopub.status.idle": "2024-01-17T23:26:45.220494Z",
     "shell.execute_reply": "2024-01-17T23:26:45.219046Z",
     "shell.execute_reply.started": "2024-01-17T23:26:45.212841Z"
    },
    "id": "rMzt8NWkTOF-"
   },
   "outputs": [],
   "source": [
    "#Quantidade de clientes que transacionaram menos de 60 vezes\n",
    "df_transacoes_qtdmaximo_qtd,_ = df[df['qtd_transacoes_12m']<60].shape"
   ]
  },
  {
   "cell_type": "markdown",
   "metadata": {
    "id": "jZZ_ce0n8L7u"
   },
   "source": [
    "Vericamos que o range de clientes que tivereram menos de 60 transações são os que porcentualmente tem mais clientes inadiplentes, 33,12% dos clientes desse range são default = 1 quase o dobro da porcentagem de 15,72% inadiplentes em relação ao total de clientes."
   ]
  },
  {
   "cell_type": "code",
   "execution_count": null,
   "metadata": {
    "execution": {
     "iopub.execute_input": "2024-01-17T23:26:45.222925Z",
     "iopub.status.busy": "2024-01-17T23:26:45.221850Z",
     "iopub.status.idle": "2024-01-17T23:26:45.236245Z",
     "shell.execute_reply": "2024-01-17T23:26:45.235232Z",
     "shell.execute_reply.started": "2024-01-17T23:26:45.222876Z"
    },
    "id": "6lkkk0ECTXLs"
   },
   "outputs": [],
   "source": [
    "# Porcentagem dos clientes que transacionaram menos de 60 vezes e são inadiplentes\n",
    "round(100 * df_transac_qtdinadimplente / df_transacoes_qtdmaximo_qtd, 2)"
   ]
  },
  {
   "cell_type": "markdown",
   "metadata": {
    "id": "Wp3iMVg-82-U"
   },
   "source": [
    "Abaixo veremos que os clientes totais desse range são 39,99% dos clientes, tanbém parece pouco? Mas assim como na variáveis anterior..."
   ]
  },
  {
   "cell_type": "code",
   "execution_count": null,
   "metadata": {
    "execution": {
     "iopub.execute_input": "2024-01-17T23:26:45.238023Z",
     "iopub.status.busy": "2024-01-17T23:26:45.237672Z",
     "iopub.status.idle": "2024-01-17T23:26:45.248577Z",
     "shell.execute_reply": "2024-01-17T23:26:45.247709Z",
     "shell.execute_reply.started": "2024-01-17T23:26:45.237995Z"
    },
    "id": "64xmb71QOWuG"
   },
   "outputs": [],
   "source": [
    "#Porcentagem dos clientes totais que transacionaram menos de 60 vezes\n",
    "round(100 * df_transacoes_qtdmaximo_qtd /qtd_total_novo, 2)"
   ]
  },
  {
   "cell_type": "markdown",
   "metadata": {
    "id": "3URboLfN9Iwm"
   },
   "source": [
    "... os clientes inadiplentes desse range representam a maioria (84,28%) dos clientes inadiplentes."
   ]
  },
  {
   "cell_type": "code",
   "execution_count": null,
   "metadata": {
    "execution": {
     "iopub.execute_input": "2024-01-17T23:26:45.250302Z",
     "iopub.status.busy": "2024-01-17T23:26:45.249967Z",
     "iopub.status.idle": "2024-01-17T23:26:45.260581Z",
     "shell.execute_reply": "2024-01-17T23:26:45.259771Z",
     "shell.execute_reply.started": "2024-01-17T23:26:45.250275Z"
    },
    "id": "_ElR1WMv8PbK"
   },
   "outputs": [],
   "source": [
    "#Porcentagem de clientes que transacionaram menos de 60 vezes e sao inadiplentes em relacao ao total de inadiplentes\n",
    "round(100 * df_transac_qtdinadimplente/qtd_inadimplentes_novo, 2)"
   ]
  },
  {
   "cell_type": "markdown",
   "metadata": {
    "id": "leqEvWpU9oH3"
   },
   "source": [
    "E novamente somente os clientes inadiplentes desse range representam acima 12% dos total de clientes, adiplentes ou não. Relembrando que o total de inadiplentes é proximo de 16%."
   ]
  },
  {
   "cell_type": "code",
   "execution_count": null,
   "metadata": {
    "execution": {
     "iopub.execute_input": "2024-01-17T23:26:45.261931Z",
     "iopub.status.busy": "2024-01-17T23:26:45.261575Z",
     "iopub.status.idle": "2024-01-17T23:26:45.273635Z",
     "shell.execute_reply": "2024-01-17T23:26:45.272660Z",
     "shell.execute_reply.started": "2024-01-17T23:26:45.261900Z"
    },
    "id": "4BbSdDtEUK7F"
   },
   "outputs": [],
   "source": [
    "#Porcentagem de clientes que transacionaram menos de 60 vezes e sao inadiplentes em relacao ao total de clientes\n",
    "round(100 * df_transac_qtdinadimplente/qtd_total_novo, 2)"
   ]
  },
  {
   "cell_type": "markdown",
   "metadata": {
    "id": "SKQ9vAnB-l5T"
   },
   "source": [
    "#### 6.3\\. Cruzando variáveis"
   ]
  },
  {
   "cell_type": "markdown",
   "metadata": {
    "id": "q4X0OeM0-eYg"
   },
   "source": [
    "Agora vamos cruzar essa duas variáveis para verificarmos a porcentagem de clientes inadiplentes que transacioaram menos de $3000,00 e transacionaram menos de 60 vezes no ultimo ano.\n",
    "\n",
    "\n"
   ]
  },
  {
   "cell_type": "markdown",
   "metadata": {
    "id": "svOeM8fRAhTC"
   },
   "source": [
    "Chegamos ao valor expressivo de 92,54%, dos clientes que trasacionaram menos de $3000 também transacionaram menos de 60 vezes no ultimo ano."
   ]
  },
  {
   "cell_type": "code",
   "execution_count": null,
   "metadata": {
    "execution": {
     "iopub.execute_input": "2024-01-17T23:26:45.276202Z",
     "iopub.status.busy": "2024-01-17T23:26:45.275418Z",
     "iopub.status.idle": "2024-01-17T23:26:45.286638Z",
     "shell.execute_reply": "2024-01-17T23:26:45.285347Z",
     "shell.execute_reply.started": "2024-01-17T23:26:45.276158Z"
    },
    "id": "-aoufFkpvVjJ"
   },
   "outputs": [],
   "source": [
    "#Porcentagem dos clientes inadiplente que transacioaram menos de $3000 e transacionaram menos de 60 vezes\n",
    "round(100 * df_transac_inadimplente/df_transac_qtdinadimplente, 2)"
   ]
  },
  {
   "cell_type": "markdown",
   "metadata": {
    "id": "KgP577pAB3FB"
   },
   "source": [
    "Apos verificarmos que o cruzamento dessas variaves, vamos verificar a porcentagem dos clientes inadiplementes que possuem ambas condições: trasancionaram menos de 60 vezes e trasancionaram menos de $3000 no ultimo ano."
   ]
  },
  {
   "cell_type": "code",
   "execution_count": null,
   "metadata": {
    "execution": {
     "iopub.execute_input": "2024-01-17T23:26:45.288704Z",
     "iopub.status.busy": "2024-01-17T23:26:45.288218Z",
     "iopub.status.idle": "2024-01-17T23:26:45.302804Z",
     "shell.execute_reply": "2024-01-17T23:26:45.301689Z",
     "shell.execute_reply.started": "2024-01-17T23:26:45.288659Z"
    },
    "id": "5WSrys3JxgaU"
   },
   "outputs": [],
   "source": [
    "df_transac_qtdinad = df_transacoes_qtdmaximo[df_transacoes_qtdmaximo['default'] == 1]\n",
    "df_inadimplente_cruzado = df_transac_qtdinad[df_transac_qtdinad['valor_transacoes_12m']<3000]\n"
   ]
  },
  {
   "cell_type": "code",
   "execution_count": null,
   "metadata": {
    "execution": {
     "iopub.execute_input": "2024-01-17T23:26:45.305820Z",
     "iopub.status.busy": "2024-01-17T23:26:45.304353Z",
     "iopub.status.idle": "2024-01-17T23:26:45.314481Z",
     "shell.execute_reply": "2024-01-17T23:26:45.313564Z",
     "shell.execute_reply.started": "2024-01-17T23:26:45.305777Z"
    },
    "id": "1IP2FoB98K8g"
   },
   "outputs": [],
   "source": [
    "df_qtdinadimplente_cruzado,_ = df_transac_qtdinad[df_transac_qtdinad['valor_transacoes_12m']<3000].shape"
   ]
  },
  {
   "cell_type": "markdown",
   "metadata": {
    "id": "J8j1SoZwDShI"
   },
   "source": [
    "Novamente chegamos a um resultado bastante expressivo de 77,09% dos clientes inadiplentes."
   ]
  },
  {
   "cell_type": "code",
   "execution_count": null,
   "metadata": {
    "execution": {
     "iopub.execute_input": "2024-01-17T23:26:45.316582Z",
     "iopub.status.busy": "2024-01-17T23:26:45.315676Z",
     "iopub.status.idle": "2024-01-17T23:26:45.330021Z",
     "shell.execute_reply": "2024-01-17T23:26:45.329193Z",
     "shell.execute_reply.started": "2024-01-17T23:26:45.316543Z"
    },
    "id": "gp8S4Ps96xPy"
   },
   "outputs": [],
   "source": [
    "round(100 * df_qtdinadimplente_cruzado/qtd_inadimplentes_novo, 2)"
   ]
  },
  {
   "cell_type": "markdown",
   "metadata": {
    "id": "u1oI7SjBrG5I"
   },
   "source": [
    "Para concluirmos iremos verificar qual a porcentagem do total de clientes correspodem esse cruzamento de variáveis."
   ]
  },
  {
   "cell_type": "code",
   "execution_count": null,
   "metadata": {
    "execution": {
     "iopub.execute_input": "2024-01-17T23:26:45.332224Z",
     "iopub.status.busy": "2024-01-17T23:26:45.331136Z",
     "iopub.status.idle": "2024-01-17T23:26:45.341890Z",
     "shell.execute_reply": "2024-01-17T23:26:45.340546Z",
     "shell.execute_reply.started": "2024-01-17T23:26:45.332188Z"
    },
    "id": "6PFHvjAjrFKN"
   },
   "outputs": [],
   "source": [
    "#Porcentagem de clientes que transacionaram menos de 60 vezes e sao inadiplentes em relacao ao total de clientes\n",
    "round(100 * df_qtdinadimplente_cruzado/qtd_total_novo, 2)"
   ]
  },
  {
   "cell_type": "markdown",
   "metadata": {
    "id": "YhJYyzhYwFZa"
   },
   "source": [
    "Novamente um numero expressivo acima de 12%."
   ]
  },
  {
   "cell_type": "markdown",
   "metadata": {
    "id": "o4cjNTjYQNDh"
   },
   "source": [
    "# 7. Conclusões <a name=\"conclusoes\"></a>\n",
    "\n",
    "<div style=\"text-align: right\"\n",
    "     \n",
    "[Voltar ao índice](#topicos)"
   ]
  },
  {
   "cell_type": "markdown",
   "metadata": {
    "id": "VsTN_z9ltEpb"
   },
   "source": [
    "Baseado em nossas visualizações graficas e os números disponibilizados, podemos afirmar que entre as variáveis apresentadas, as que mais influenciaram na variável `default = 1` isto é ser inadiplente, foram as variáveis `valor_transacoes_12m` e `qtd_transacoes_12m`. Ambas variáveis ou apenas uma delas esta presente em mais de 77% dos clientes, algo bastante expressivo. Recomenda-se buscar novas bases com mais variáveis e parâmetros para se realizar uma analise estatística mais aprofundada e assim entender possiveis causas e criar possiveis soluções de maneira mais assertiva."
   ]
  }
 ],
 "metadata": {
  "colab": {
   "collapsed_sections": [
    "NSjezV8uuK-A",
    "EuDUXAcU-bWl",
    "kwey_fNL-dko",
    "u9kFH-ADSEVO",
    "v0oeXqxsTO2o",
    "0h1s5odlgHbY",
    "cBIWU4zISIqR"
   ],
   "provenance": [],
   "toc_visible": true
  },
  "kaggle": {
   "accelerator": "none",
   "dataSources": [],
   "dockerImageVersionId": 30635,
   "isGpuEnabled": false,
   "isInternetEnabled": true,
   "language": "python",
   "sourceType": "notebook"
  },
  "kernelspec": {
   "display_name": "Python 3 (ipykernel)",
   "language": "python",
   "name": "python3"
  },
  "language_info": {
   "codemirror_mode": {
    "name": "ipython",
    "version": 3
   },
   "file_extension": ".py",
   "mimetype": "text/x-python",
   "name": "python",
   "nbconvert_exporter": "python",
   "pygments_lexer": "ipython3",
   "version": "3.11.5"
  }
 },
 "nbformat": 4,
 "nbformat_minor": 1
}
